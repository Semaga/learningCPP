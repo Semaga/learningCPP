{
 "cells": [
  {
   "cell_type": "code",
   "execution_count": 21,
   "metadata": {},
   "outputs": [],
   "source": [
    "%matplotlib nbagg\n",
    "import matplotlib.pyplot as plt\n",
    "import numpy as np\n",
    "from subprocess import PIPE, Popen"
   ]
  },
  {
   "cell_type": "code",
   "execution_count": 117,
   "metadata": {},
   "outputs": [
    {
     "data": {
      "text/plain": [
       "<subprocess.Popen at 0x1413cd780>"
      ]
     },
     "execution_count": 117,
     "metadata": {},
     "output_type": "execute_result"
    }
   ],
   "source": [
    "cmd = 'g++ main.cpp CHR_PRP.cpp SUB_PRP.cpp -c -std=c++14'\n",
    "subprocess.Popen(cmd, shell=True)\n",
    "\n",
    "cmd = 'g++ main.o CHR_PRP.o SUB_PRP.o -o DoIt'\n",
    "subprocess.Popen(cmd, shell=True)\n",
    "\n",
    "cmd = './DoIt'\n",
    "subprocess.Popen(cmd, shell=True)"
   ]
  },
  {
   "cell_type": "code",
   "execution_count": null,
   "metadata": {
    "scrolled": false
   },
   "outputs": [],
   "source": [
    "with open(\"output.txt\") as read:\n",
    "    read.readline()\n",
    "    a = read.readline()\n",
    "    a = a.split()\n",
    "    lenght_x = float(a[2])\n",
    "    a = read.readline()\n",
    "    a = a.split()\n",
    "    lenght_y = float(a[2])\n",
    "    a = read.readline()\n",
    "    a = a.split()\n",
    "    dimensional = int(a[2])\n",
    "    read.readline()\n",
    "    a = read.readline()\n",
    "    a = a.split()\n",
    "    position_x = float(a[2])\n",
    "    a = read.readline()\n",
    "    a = a.split()\n",
    "    position_y = float(a[2])\n",
    "    a = read.readline()\n",
    "    a = a.split()\n",
    "    charge_value = float(a[2])\n",
    "    \n",
    "    for line in read:\n",
    "        if line == \"Data:\\n\":\n",
    "            a = read.readline()\n",
    "\n",
    "a = a.split()\n",
    "\n",
    "data = np.zeros((dimensional, dimensional), float)\n",
    "\n",
    "for i, value in enumerate(a):\n",
    "    a[i] = float(value)\n",
    "\n",
    "i = 0\n",
    "j = 0\n",
    "for k, value in enumerate(a):\n",
    "    i = int(k%dimensional)\n",
    "    j = int(k/dimensional)\n",
    "    data[i][j] = float(value)\n",
    "\n",
    "\n",
    "X = np.linspace(0, lenght_x, dimensional)\n",
    "Y = np.linspace(0, lenght_y, dimensional)\n",
    "\n",
    "\n",
    "fig, ax = plt.subplots(constrained_layout = True)\n",
    "CS = ax.contourf(X,Y, np.log(data), 100, origin = 'lower')\n",
    "ax.set_xlabel('X')\n",
    "ax.set_ylabel('Y')\n",
    "cbar = fig.colorbar(CS)\n",
    "cbar.ax.set_ylabel('Value of ln(E)')"
   ]
  },
  {
   "cell_type": "code",
   "execution_count": 172,
   "metadata": {},
   "outputs": [],
   "source": [
    "Lenght_x         = 5.0\n",
    "Lenght_y         = 5.0\n",
    "Dimension        = 100\n",
    "ParticlesNumbers = 10\n",
    "\n",
    "with open('InputFile.txt', 'w+') as write:\n",
    "    s = \"Substrate:\\n\\tLenght_x = \"+ str(Lenght_x)+\"\\n\\tLenght_y = \" + str(Lenght_y)\n",
    "    write.write(s)\n",
    "    s = \"\\nParameters of calculation:\\n\\tDimenstion = \" + str(Dimension)\n",
    "    write.write(s)\n",
    "    s = \"\\nOther parameters:\\n\\tNumber of electrons = \" + str(ParticlesNumbers)\n",
    "    write.write(s)"
   ]
  },
  {
   "cell_type": "code",
   "execution_count": 173,
   "metadata": {},
   "outputs": [
    {
     "name": "stdout",
     "output_type": "stream",
     "text": [
      "Substrate:\r\n",
      "\tLenght_x = 5.0\r\n",
      "\tLenght_y = 5.0\r\n",
      "Parameters of calculation:\r\n",
      "\tDimenstion = 100\r\n",
      "Other parameters:\r\n",
      "\tNumber of electrons = 10"
     ]
    }
   ],
   "source": [
    "!cat InputFile.txt"
   ]
  },
  {
   "cell_type": "code",
   "execution_count": 8,
   "metadata": {},
   "outputs": [],
   "source": []
  },
  {
   "cell_type": "code",
   "execution_count": 18,
   "metadata": {},
   "outputs": [],
   "source": []
  },
  {
   "cell_type": "code",
   "execution_count": 19,
   "metadata": {},
   "outputs": [
    {
     "data": {
      "text/plain": [
       "<subprocess.Popen at 0x10e33a710>"
      ]
     },
     "execution_count": 19,
     "metadata": {},
     "output_type": "execute_result"
    }
   ],
   "source": []
  },
  {
   "cell_type": "code",
   "execution_count": null,
   "metadata": {},
   "outputs": [],
   "source": []
  }
 ],
 "metadata": {
  "kernelspec": {
   "display_name": "Python 3",
   "language": "python",
   "name": "python3"
  },
  "language_info": {
   "codemirror_mode": {
    "name": "ipython",
    "version": 3
   },
   "file_extension": ".py",
   "mimetype": "text/x-python",
   "name": "python",
   "nbconvert_exporter": "python",
   "pygments_lexer": "ipython3",
   "version": "3.7.3"
  }
 },
 "nbformat": 4,
 "nbformat_minor": 2
}
